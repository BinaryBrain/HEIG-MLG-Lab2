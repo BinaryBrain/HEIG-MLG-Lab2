{
 "cells": [
  {
   "cell_type": "code",
   "execution_count": 11,
   "metadata": {
    "collapsed": true
   },
   "outputs": [],
   "source": [
    "import numpy as np\n",
    "from matplotlib import pyplot as pl\n",
    "\n",
    "import scipy.io.wavfile as wav\n",
    "from scikits.talkbox.features import mfcc\n",
    "\n",
    "%matplotlib inline\n",
    "\n",
    "import os\n",
    "BASE_DIR = 'vowels/'\n",
    "files = os.listdir(BASE_DIR)"
   ]
  },
  {
   "cell_type": "markdown",
   "metadata": {},
   "source": [
    "# 7.1"
   ]
  },
  {
   "cell_type": "code",
   "execution_count": 12,
   "metadata": {
    "collapsed": true
   },
   "outputs": [],
   "source": [
    "nafFiles = []\n",
    "namFiles = []\n",
    "\n",
    "# Get all natural female and male wav files by itering all the files' names.\n",
    "# The first value of each array's elements is the simple rate, while the second one is the values.\n",
    "for f in files:\n",
    "    if f.startswith(\"naf\"):\n",
    "        nafFiles.append(wav.read(BASE_DIR + f))\n",
    "    if f.startswith(\"nam\"):\n",
    "        namFiles.append(wav.read(BASE_DIR + f))"
   ]
  },
  {
   "cell_type": "code",
   "execution_count": 13,
   "metadata": {
    "collapsed": false
   },
   "outputs": [],
   "source": [
    "nafCeps = []\n",
    "for f in nafFiles:\n",
    "    nafCeps.append(mfcc(f[1], fs=f[0])[0])\n",
    "\n",
    "namCeps = []\n",
    "for f in namFiles:\n",
    "    namCeps.append(mfcc(f[1], fs=f[0])[0])"
   ]
  },
  {
   "cell_type": "code",
   "execution_count": 14,
   "metadata": {
    "collapsed": false
   },
   "outputs": [],
   "source": [
    "nafMeanCeps = []\n",
    "for c in nafCeps:\n",
    "    nafMeanCeps.append(np.mean(c, axis=0))"
   ]
  },
  {
   "cell_type": "code",
   "execution_count": 19,
   "metadata": {
    "collapsed": false
   },
   "outputs": [
    {
     "name": "stdout",
     "output_type": "stream",
     "text": [
      "[  1.52453419e+01   1.39559921e+00  -7.96407272e-01  -2.68892312e-01\n",
      "  -6.20846343e-01  -1.54036023e-01  -1.81513987e-01  -9.56934275e-01\n",
      "   3.09275282e-01   6.67118174e-01   5.45880815e-03  -6.38553334e-02\n",
      "   2.30225873e-01]\n"
     ]
    }
   ],
   "source": [
    "namMeanCeps = []\n",
    "for c in namCeps:\n",
    "    namMeanCeps.append(np.mean(c, axis=0))\n",
    "print namMeanCeps[0]"
   ]
  },
  {
   "cell_type": "code",
   "execution_count": 27,
   "metadata": {
    "collapsed": false
   },
   "outputs": [
    {
     "name": "stdout",
     "output_type": "stream",
     "text": [
      "1008\n"
     ]
    }
   ],
   "source": [
    "dataset = []\n",
    "dataset = np.append(map(lambda x: np.append(x, 1), nafMeanCeps), map(lambda x: np.append(x, -1), namMeanCeps))\n",
    "print(len(dataset))"
   ]
  },
  {
   "cell_type": "markdown",
   "metadata": {},
   "source": [
    "# 7.2"
   ]
  },
  {
   "cell_type": "code",
   "execution_count": 40,
   "metadata": {
    "collapsed": false
   },
   "outputs": [],
   "source": [
    "nkFiles = []\n",
    "\n",
    "for f in files:\n",
    "    if f.startswith(\"nk\"):\n",
    "        nkFiles.append(wav.read(BASE_DIR + f))"
   ]
  },
  {
   "cell_type": "code",
   "execution_count": 41,
   "metadata": {
    "collapsed": true
   },
   "outputs": [],
   "source": [
    "nkCeps = []\n",
    "for f in nkFiles:\n",
    "    nkCeps.append(mfcc(f[1], fs=f[0])[0])"
   ]
  },
  {
   "cell_type": "code",
   "execution_count": 42,
   "metadata": {
    "collapsed": false
   },
   "outputs": [
    {
     "name": "stdout",
     "output_type": "stream",
     "text": [
      "[ 14.80595194   0.92440865   2.66664348   0.78685828  -1.12664115\n",
      "   0.1401904   -0.47762766  -0.81662582   0.30184514  -0.14245167\n",
      "   0.05061334   0.09102493   0.3083708 ]\n"
     ]
    }
   ],
   "source": [
    "print namMeanCeps"
   ]
  },
  {
   "cell_type": "code",
   "execution_count": 43,
   "metadata": {
    "collapsed": false
   },
   "outputs": [
    {
     "name": "stdout",
     "output_type": "stream",
     "text": [
      "[ 15.25868063   1.55432464   0.47707232   1.58101891  -0.60629484\n",
      "  -0.41603403  -0.57384826   0.28345123  -0.35312312  -0.0234101\n",
      "   0.12874776   0.34592014  -0.29469729]\n"
     ]
    }
   ],
   "source": [
    "nkMeanCeps = np.mean(nkCeps[0], axis=0)\n",
    "print nkMeanMeanCeps"
   ]
  },
  {
   "cell_type": "markdown",
   "metadata": {},
   "source": [
    "# 7.3"
   ]
  },
  {
   "cell_type": "code",
   "execution_count": 61,
   "metadata": {
    "collapsed": false
   },
   "outputs": [
    {
     "name": "stdout",
     "output_type": "stream",
     "text": [
      "[ 15.59676448   2.80003934  -0.39652586  -0.76364244  -1.25470778\n",
      "   0.79151527  -0.43268339   0.10226868   0.04713486   0.31112434\n",
      "   0.18058686  -0.06080008   0.17647303]\n"
     ]
    }
   ],
   "source": [
    "print nafMeanCeps"
   ]
  },
  {
   "cell_type": "code",
   "execution_count": 62,
   "metadata": {
    "collapsed": false
   },
   "outputs": [
    {
     "name": "stdout",
     "output_type": "stream",
     "text": [
      "[ 13.67969351   1.50603074   0.78396184   0.4113546    0.0454019\n",
      "   1.10128161   0.96236364  -0.77496485   0.16466424  -0.43918445\n",
      "   0.8500918   -0.84605079   0.06960457]\n"
     ]
    }
   ],
   "source": [
    "print namMeanCeps"
   ]
  },
  {
   "cell_type": "markdown",
   "metadata": {},
   "source": [
    "# 7.4"
   ]
  },
  {
   "cell_type": "code",
   "execution_count": 64,
   "metadata": {
    "collapsed": false
   },
   "outputs": [
    {
     "name": "stdout",
     "output_type": "stream",
     "text": [
      "[ 15.59676448   2.80003934  -0.39652586  -0.76364244  -1.25470778\n",
      "   0.79151527  -0.43268339   0.10226868   0.04713486   0.31112434\n",
      "   0.18058686  -0.06080008   0.17647303]\n"
     ]
    }
   ],
   "source": [
    "print namMeanCeps"
   ]
  },
  {
   "cell_type": "code",
   "execution_count": 65,
   "metadata": {
    "collapsed": false
   },
   "outputs": [
    {
     "name": "stdout",
     "output_type": "stream",
     "text": [
      "[ 15.59676448   2.80003934  -0.39652586  -0.76364244  -1.25470778\n",
      "   0.79151527  -0.43268339   0.10226868   0.04713486   0.31112434\n",
      "   0.18058686  -0.06080008   0.17647303]\n"
     ]
    }
   ],
   "source": [
    "print nafMeanCeps"
   ]
  },
  {
   "cell_type": "code",
   "execution_count": 66,
   "metadata": {
    "collapsed": false
   },
   "outputs": [
    {
     "ename": "NameError",
     "evalue": "name 'nkMeanCeps' is not defined",
     "output_type": "error",
     "traceback": [
      "\u001b[1;31m---------------------------------------------------------------------------\u001b[0m",
      "\u001b[1;31mNameError\u001b[0m                                 Traceback (most recent call last)",
      "\u001b[1;32m<ipython-input-66-63d775d2b99e>\u001b[0m in \u001b[0;36m<module>\u001b[1;34m()\u001b[0m\n\u001b[1;32m----> 1\u001b[1;33m \u001b[1;32mprint\u001b[0m \u001b[0mnkMeanCeps\u001b[0m\u001b[1;33m\u001b[0m\u001b[0m\n\u001b[0m",
      "\u001b[1;31mNameError\u001b[0m: name 'nkMeanCeps' is not defined"
     ]
    }
   ],
   "source": [
    "print nkMeanCeps"
   ]
  },
  {
   "cell_type": "code",
   "execution_count": null,
   "metadata": {
    "collapsed": true
   },
   "outputs": [],
   "source": []
  },
  {
   "cell_type": "markdown",
   "metadata": {},
   "source": [
    "# 7.5"
   ]
  },
  {
   "cell_type": "code",
   "execution_count": 49,
   "metadata": {
    "collapsed": true
   },
   "outputs": [],
   "source": [
    "naturalFiles = []\n",
    "synthesizedFiles = []\n",
    "\n",
    "for f in files:\n",
    "    if \"n\" in f:\n",
    "        naturalFiles.append(wav.read(BASE_DIR + f))\n",
    "    if \"s\" in f:\n",
    "        synthesizedFiles.append(wav.read(BASE_DIR + f))"
   ]
  },
  {
   "cell_type": "code",
   "execution_count": 52,
   "metadata": {
    "collapsed": true
   },
   "outputs": [],
   "source": [
    "naturalCeps = []\n",
    "for f in naturalFiles:\n",
    "    naturalCeps.append(mfcc(f[1], fs=f[0])[0])\n",
    "\n",
    "synthesizedCeps = []\n",
    "for f in synthesizedFiles:\n",
    "    synthesizedCeps.append(mfcc(f[1], fs=f[0])[0])"
   ]
  },
  {
   "cell_type": "code",
   "execution_count": 53,
   "metadata": {
    "collapsed": false
   },
   "outputs": [
    {
     "name": "stdout",
     "output_type": "stream",
     "text": [
      "[ 15.59676448   2.80003934  -0.39652586  -0.76364244  -1.25470778\n",
      "   0.79151527  -0.43268339   0.10226868   0.04713486   0.31112434\n",
      "   0.18058686  -0.06080008   0.17647303]\n"
     ]
    }
   ],
   "source": [
    "naturalMeanCeps = np.mean(naturalCeps[0], axis=0)\n",
    "print naturalMeanCeps"
   ]
  },
  {
   "cell_type": "code",
   "execution_count": 54,
   "metadata": {
    "collapsed": false
   },
   "outputs": [
    {
     "name": "stdout",
     "output_type": "stream",
     "text": [
      "[ 13.70235356   3.14177536  -1.31348435   2.01924182   0.64619545\n",
      "  -0.31214544  -0.15833591   0.0560468    0.03908075  -0.39810772\n",
      "  -0.28138121  -0.1422775   -0.01718017]\n"
     ]
    }
   ],
   "source": [
    "synthesizedMeanCeps = np.mean(synthesizedCeps[0], axis=0)\n",
    "print synthesizedMeanCeps"
   ]
  },
  {
   "cell_type": "markdown",
   "metadata": {},
   "source": [
    "# 7.6 7yo vs 3yo"
   ]
  },
  {
   "cell_type": "code",
   "execution_count": 56,
   "metadata": {
    "collapsed": false
   },
   "outputs": [],
   "source": [
    "_3yoFiles = []\n",
    "_7yoFiles = []\n",
    "\n",
    "for f in files:\n",
    "    if f.startswith(\"nk3\"):\n",
    "        _3yoFiles.append(wav.read(BASE_DIR + f))\n",
    "    if f.startswith(\"nk7\"):\n",
    "        _7yoFiles.append(wav.read(BASE_DIR + f))"
   ]
  },
  {
   "cell_type": "code",
   "execution_count": 57,
   "metadata": {
    "collapsed": true
   },
   "outputs": [],
   "source": [
    "_3yoCeps = []\n",
    "for f in _3yoFiles:\n",
    "    _3yoCeps.append(mfcc(f[1], fs=f[0])[0])\n",
    "\n",
    "_7yoCeps = []\n",
    "for f in _7yoFiles:\n",
    "    _7yoCeps.append(mfcc(f[1], fs=f[0])[0])"
   ]
  },
  {
   "cell_type": "code",
   "execution_count": 59,
   "metadata": {
    "collapsed": false
   },
   "outputs": [
    {
     "name": "stdout",
     "output_type": "stream",
     "text": [
      "[ 16.79714949   1.54090856   0.11806946   0.75369388  -1.12860447\n",
      "  -0.07059938   0.15398047   0.6023547   -0.39026959   0.66859702\n",
      "   0.11442308  -0.02079662   0.25363452]\n"
     ]
    }
   ],
   "source": [
    "_3yoMeanCeps = np.mean(_3yoCeps[0], axis=0)\n",
    "print _3yoMeanCeps"
   ]
  },
  {
   "cell_type": "code",
   "execution_count": 60,
   "metadata": {
    "collapsed": false
   },
   "outputs": [
    {
     "name": "stdout",
     "output_type": "stream",
     "text": [
      "[  1.56494220e+01   1.81918608e+00  -6.28691171e-01  -6.50586184e-01\n",
      "  -5.23806822e-01   7.55097353e-01   1.78484449e-01   3.07568984e-01\n",
      "   9.78368565e-02  -2.11253999e-02   8.12625526e-02  -1.06741066e-02\n",
      "   1.63699384e-01]\n"
     ]
    }
   ],
   "source": [
    "_7yoMeanCeps = np.mean(_7yoCeps[0], axis=0)\n",
    "print _7yoMeanCeps"
   ]
  }
 ],
 "metadata": {
  "kernelspec": {
   "display_name": "Python 2",
   "language": "python",
   "name": "python2"
  },
  "language_info": {
   "codemirror_mode": {
    "name": "ipython",
    "version": 2
   },
   "file_extension": ".py",
   "mimetype": "text/x-python",
   "name": "python",
   "nbconvert_exporter": "python",
   "pygments_lexer": "ipython2",
   "version": "2.7.11"
  }
 },
 "nbformat": 4,
 "nbformat_minor": 0
}
