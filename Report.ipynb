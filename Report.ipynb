{
 "cells": [
  {
   "cell_type": "code",
   "execution_count": 35,
   "metadata": {
    "collapsed": true
   },
   "outputs": [],
   "source": [
    "import numpy as np\n",
    "from matplotlib import pyplot as pl\n",
    "\n",
    "import scipy.io.wavfile as wav\n",
    "from scikits.talkbox.features import mfcc\n",
    "\n",
    "%matplotlib inline\n",
    "\n",
    "import os\n",
    "BASE_DIR = 'vowels/'\n",
    "files = os.listdir(BASE_DIR)"
   ]
  },
  {
   "cell_type": "markdown",
   "metadata": {},
   "source": [
    "# 7.1"
   ]
  },
  {
   "cell_type": "code",
   "execution_count": 36,
   "metadata": {
    "collapsed": true
   },
   "outputs": [],
   "source": [
    "nafFiles = []\n",
    "namFiles = []\n",
    "\n",
    "# Get all natural female and male wav files by itering all the files' names.\n",
    "# The first value of each array's elements is the simple rate, while the second one is the values.\n",
    "for f in files:\n",
    "    if f.startswith(\"naf\"):\n",
    "        nafFiles.append(wav.read(BASE_DIR + f))\n",
    "    if f.startswith(\"nam\"):\n",
    "        namFiles.append(wav.read(BASE_DIR + f))"
   ]
  },
  {
   "cell_type": "code",
   "execution_count": 37,
   "metadata": {
    "collapsed": true
   },
   "outputs": [],
   "source": [
    "nafCeps = []\n",
    "for f in nafFiles:\n",
    "    nafCeps.append(mfcc(f[1], fs=f[0])[0])\n",
    "\n",
    "namCeps = []\n",
    "for f in namFiles:\n",
    "    namCeps.append(mfcc(f[1], fs=f[0])[0])"
   ]
  },
  {
   "cell_type": "code",
   "execution_count": 38,
   "metadata": {
    "collapsed": false
   },
   "outputs": [
    {
     "name": "stdout",
     "output_type": "stream",
     "text": [
      "[ 15.59676448   2.80003934  -0.39652586  -0.76364244  -1.25470778\n",
      "   0.79151527  -0.43268339   0.10226868   0.04713486   0.31112434\n",
      "   0.18058686  -0.06080008   0.17647303]\n"
     ]
    }
   ],
   "source": [
    "nafMeanCeps = np.mean(nafCeps[0], axis=0)\n",
    "print nafMeanCeps"
   ]
  },
  {
   "cell_type": "code",
   "execution_count": 39,
   "metadata": {
    "collapsed": false
   },
   "outputs": [
    {
     "name": "stdout",
     "output_type": "stream",
     "text": [
      "[ 13.67969351   1.50603074   0.78396184   0.4113546    0.0454019\n",
      "   1.10128161   0.96236364  -0.77496485   0.16466424  -0.43918445\n",
      "   0.8500918   -0.84605079   0.06960457]\n"
     ]
    }
   ],
   "source": [
    "namMeanCeps = np.mean(namCeps[0], axis=0)\n",
    "print namMeanCeps"
   ]
  },
  {
   "cell_type": "markdown",
   "metadata": {},
   "source": [
    "# 7.2"
   ]
  },
  {
   "cell_type": "code",
   "execution_count": 40,
   "metadata": {
    "collapsed": false
   },
   "outputs": [],
   "source": [
    "maleFiles = []\n",
    "childrenFiles = []\n",
    "\n",
    "for f in files:\n",
    "    if \"m\" in f:\n",
    "        maleFiles.append(wav.read(BASE_DIR + f))\n",
    "    if \"k\" in f:\n",
    "        childrenFiles.append(wav.read(BASE_DIR + f))"
   ]
  },
  {
   "cell_type": "code",
   "execution_count": 41,
   "metadata": {
    "collapsed": true
   },
   "outputs": [],
   "source": [
    "maleCeps = []\n",
    "for f in maleFiles:\n",
    "    maleCeps.append(mfcc(f[1], fs=f[0])[0])\n",
    "\n",
    "childrenCeps = []\n",
    "for f in childrenFiles:\n",
    "    childrenCeps.append(mfcc(f[1], fs=f[0])[0])"
   ]
  },
  {
   "cell_type": "code",
   "execution_count": 42,
   "metadata": {
    "collapsed": false
   },
   "outputs": [
    {
     "name": "stdout",
     "output_type": "stream",
     "text": [
      "[ 14.80595194   0.92440865   2.66664348   0.78685828  -1.12664115\n",
      "   0.1401904   -0.47762766  -0.81662582   0.30184514  -0.14245167\n",
      "   0.05061334   0.09102493   0.3083708 ]\n"
     ]
    }
   ],
   "source": [
    "maleMeanCeps = np.mean(maleCeps[0], axis=0)\n",
    "print maleMeanCeps"
   ]
  },
  {
   "cell_type": "code",
   "execution_count": 43,
   "metadata": {
    "collapsed": false
   },
   "outputs": [
    {
     "name": "stdout",
     "output_type": "stream",
     "text": [
      "[ 15.25868063   1.55432464   0.47707232   1.58101891  -0.60629484\n",
      "  -0.41603403  -0.57384826   0.28345123  -0.35312312  -0.0234101\n",
      "   0.12874776   0.34592014  -0.29469729]\n"
     ]
    }
   ],
   "source": [
    "childrenMeanCeps = np.mean(childrenCeps[0], axis=0)\n",
    "print childrenMeanCeps"
   ]
  },
  {
   "cell_type": "markdown",
   "metadata": {},
   "source": [
    "# 7.3"
   ]
  },
  {
   "cell_type": "code",
   "execution_count": 44,
   "metadata": {
    "collapsed": false
   },
   "outputs": [],
   "source": [
    "womenFiles = []\n",
    "\n",
    "for f in files:\n",
    "    if \"f\" in f:\n",
    "        womenFiles.append(wav.read(BASE_DIR + f))"
   ]
  },
  {
   "cell_type": "code",
   "execution_count": 45,
   "metadata": {
    "collapsed": true
   },
   "outputs": [],
   "source": [
    "womenCeps = []\n",
    "for f in womenFiles:\n",
    "    womenCeps.append(mfcc(f[1], fs=f[0])[0])"
   ]
  },
  {
   "cell_type": "code",
   "execution_count": 46,
   "metadata": {
    "collapsed": false
   },
   "outputs": [
    {
     "name": "stdout",
     "output_type": "stream",
     "text": [
      "[ 14.80595194   0.92440865   2.66664348   0.78685828  -1.12664115\n",
      "   0.1401904   -0.47762766  -0.81662582   0.30184514  -0.14245167\n",
      "   0.05061334   0.09102493   0.3083708 ]\n"
     ]
    }
   ],
   "source": [
    "womenMeanCeps = np.mean(maleCeps[0], axis=0)\n",
    "print womenMeanCeps"
   ]
  },
  {
   "cell_type": "code",
   "execution_count": 48,
   "metadata": {
    "collapsed": false
   },
   "outputs": [
    {
     "name": "stdout",
     "output_type": "stream",
     "text": [
      "[ 15.25868063   1.55432464   0.47707232   1.58101891  -0.60629484\n",
      "  -0.41603403  -0.57384826   0.28345123  -0.35312312  -0.0234101\n",
      "   0.12874776   0.34592014  -0.29469729]\n"
     ]
    }
   ],
   "source": [
    "print childrenMeanCeps"
   ]
  },
  {
   "cell_type": "markdown",
   "metadata": {},
   "source": [
    "# 7.4"
   ]
  },
  {
   "cell_type": "markdown",
   "metadata": {},
   "source": [
    "# 7.5"
   ]
  },
  {
   "cell_type": "code",
   "execution_count": 49,
   "metadata": {
    "collapsed": true
   },
   "outputs": [],
   "source": [
    "naturalFiles = []\n",
    "synthesizedFiles = []\n",
    "\n",
    "for f in files:\n",
    "    if \"n\" in f:\n",
    "        naturalFiles.append(wav.read(BASE_DIR + f))\n",
    "    if \"s\" in f:\n",
    "        synthesizedFiles.append(wav.read(BASE_DIR + f))"
   ]
  },
  {
   "cell_type": "code",
   "execution_count": 52,
   "metadata": {
    "collapsed": true
   },
   "outputs": [],
   "source": [
    "naturalCeps = []\n",
    "for f in naturalFiles:\n",
    "    naturalCeps.append(mfcc(f[1], fs=f[0])[0])\n",
    "\n",
    "synthesizedCeps = []\n",
    "for f in synthesizedFiles:\n",
    "    synthesizedCeps.append(mfcc(f[1], fs=f[0])[0])"
   ]
  },
  {
   "cell_type": "code",
   "execution_count": 53,
   "metadata": {
    "collapsed": false
   },
   "outputs": [
    {
     "name": "stdout",
     "output_type": "stream",
     "text": [
      "[ 15.59676448   2.80003934  -0.39652586  -0.76364244  -1.25470778\n",
      "   0.79151527  -0.43268339   0.10226868   0.04713486   0.31112434\n",
      "   0.18058686  -0.06080008   0.17647303]\n"
     ]
    }
   ],
   "source": [
    "naturalMeanCeps = np.mean(naturalCeps[0], axis=0)\n",
    "print naturalMeanCeps"
   ]
  },
  {
   "cell_type": "code",
   "execution_count": 54,
   "metadata": {
    "collapsed": false
   },
   "outputs": [
    {
     "name": "stdout",
     "output_type": "stream",
     "text": [
      "[ 13.70235356   3.14177536  -1.31348435   2.01924182   0.64619545\n",
      "  -0.31214544  -0.15833591   0.0560468    0.03908075  -0.39810772\n",
      "  -0.28138121  -0.1422775   -0.01718017]\n"
     ]
    }
   ],
   "source": [
    "synthesizedMeanCeps = np.mean(synthesizedCeps[0], axis=0)\n",
    "print synthesizedMeanCeps"
   ]
  },
  {
   "cell_type": "markdown",
   "metadata": {},
   "source": [
    "# 7.6"
   ]
  },
  {
   "cell_type": "code",
   "execution_count": null,
   "metadata": {
    "collapsed": true
   },
   "outputs": [],
   "source": []
  }
 ],
 "metadata": {
  "kernelspec": {
   "display_name": "Python 2",
   "language": "python",
   "name": "python2"
  },
  "language_info": {
   "codemirror_mode": {
    "name": "ipython",
    "version": 2
   },
   "file_extension": ".py",
   "mimetype": "text/x-python",
   "name": "python",
   "nbconvert_exporter": "python",
   "pygments_lexer": "ipython2",
   "version": "2.7.11"
  }
 },
 "nbformat": 4,
 "nbformat_minor": 0
}
