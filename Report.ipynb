{
 "cells": [
  {
   "cell_type": "code",
   "execution_count": 67,
   "metadata": {
    "collapsed": true
   },
   "outputs": [],
   "source": [
    "import numpy as np\n",
    "from matplotlib import pyplot as pl\n",
    "\n",
    "import scipy.io.wavfile as wav\n",
    "from scikits.talkbox.features import mfcc\n",
    "\n",
    "%matplotlib inline\n",
    "\n",
    "import os\n",
    "BASE_DIR = 'vowels/'\n",
    "files = os.listdir(BASE_DIR)"
   ]
  },
  {
   "cell_type": "markdown",
   "metadata": {},
   "source": [
    "# 7.1"
   ]
  },
  {
   "cell_type": "code",
   "execution_count": 68,
   "metadata": {
    "collapsed": true
   },
   "outputs": [],
   "source": [
    "nafFiles = []\n",
    "namFiles = []\n",
    "\n",
    "# Get all natural female and male wav files by itering all the files' names.\n",
    "# The first value of each array's elements is the simple rate, while the second one is the values.\n",
    "for f in files:\n",
    "    if f.startswith(\"naf\"):\n",
    "        nafFiles.append(wav.read(BASE_DIR + f))\n",
    "    if f.startswith(\"nam\"):\n",
    "        namFiles.append(wav.read(BASE_DIR + f))"
   ]
  },
  {
   "cell_type": "code",
   "execution_count": 71,
   "metadata": {
    "collapsed": false
   },
   "outputs": [],
   "source": [
    "nafCeps = []\n",
    "for f in nafFiles:\n",
    "    nafCeps.append(mfcc(f[1], fs=f[0])[0])\n",
    "\n",
    "namCeps = []\n",
    "for f in namFiles:\n",
    "    namCeps.append(mfcc(f[1], fs=f[0])[0])"
   ]
  },
  {
   "cell_type": "code",
   "execution_count": 74,
   "metadata": {
    "collapsed": false
   },
   "outputs": [
    {
     "name": "stdout",
     "output_type": "stream",
     "text": [
      "[ 15.59676448   2.80003934  -0.39652586  -0.76364244  -1.25470778\n",
      "   0.79151527  -0.43268339   0.10226868   0.04713486   0.31112434\n",
      "   0.18058686  -0.06080008   0.17647303]\n",
      "[ 15.25868063   1.55432464   0.47707232   1.58101891  -0.60629484\n",
      "  -0.41603403  -0.57384826   0.28345123  -0.35312312  -0.0234101\n",
      "   0.12874776   0.34592014  -0.29469729]\n",
      "[ 13.90867852   0.68129169   2.05023316   1.69824959  -1.11848276\n",
      "   1.1193401    0.36488438  -0.02601204  -0.36810946  -0.303512\n",
      "  -0.27483869  -0.06704484   0.02052806]\n",
      "[ 15.80234939   2.04174719  -0.3284331    0.05370534   0.28048581\n",
      "   0.02193069  -0.23488165  -0.54157618  -0.11982253   0.42491178\n",
      "  -0.17147618  -0.58432596   0.56458697]\n",
      "[ 14.61531825   0.62442115   0.14397496   2.29468211   0.99964086\n",
      "  -0.06981434  -0.28476776   0.04074258  -0.85627847  -0.42439235\n",
      "  -0.22276625  -0.51432127   0.42661653]\n",
      "[  1.56220512e+01   2.16217379e+00  -6.31645247e-01  -5.52234332e-01\n",
      "  -7.37977930e-01   8.63676695e-01  -1.96047121e-01   3.14027768e-03\n",
      "  -8.61517065e-02   3.06733920e-01  -2.80141500e-01   1.05603747e-01\n",
      "   9.70638766e-02]\n",
      "[  1.63795800e+01   1.93189870e+00  -8.37986929e-01   4.25313538e-01\n",
      "  -3.64863907e-01  -3.86583520e-01  -2.48082242e-01  -1.70878512e-01\n",
      "   3.67498345e-01  -2.39549345e-02  -1.41356656e-03  -2.53634159e-01\n",
      "   2.97380944e-01]\n",
      "[ 15.69652272   1.49210707   0.12577637   0.99244114  -0.9863057\n",
      "  -0.36708228  -0.39353101   0.51685547  -0.17591844   0.20479101\n",
      "   0.11346399   0.46487902  -0.38277674]\n",
      "[ 15.00935594   2.44551823  -1.00368672   0.38907194   0.99366843\n",
      "  -0.07768997  -1.30984379   0.30254197   0.27436856  -0.60277613\n",
      "   0.32611092  -0.17323347   0.07124727]\n",
      "[ 15.74054537   1.90082248  -0.3073282    1.13234723  -0.23127706\n",
      "   0.07724693  -0.62257336  -0.02111931  -0.02024555   0.11724587\n",
      "  -0.06437372  -0.38428337   0.38513391]\n",
      "[ 14.46221036   2.23447343   0.14328295   1.04976888  -0.16728806\n",
      "   0.09341499  -0.94279771   0.02750877   0.12256622   0.09202591\n",
      "  -0.16153236   0.24475886   0.20579028]\n",
      "[ 14.70895009   3.11662516  -0.73280599  -0.42956181   0.88599226\n",
      "   0.08325293  -0.25905431  -0.71033737   0.71530932  -0.26924243\n",
      "   0.07794458  -0.2111675    0.12117005]\n",
      "[  1.45486849e+01  -2.63109616e-02   1.37179793e+00   2.34299261e+00\n",
      "  -1.61923057e-01   5.50889256e-01   5.44447546e-01  -6.85188408e-01\n",
      "  -3.75370585e-01  -5.47894336e-03  -4.63566215e-01  -3.68752231e-01\n",
      "   2.97925772e-01]\n",
      "[  1.48997529e+01   7.54179219e-01   9.72020846e-01   1.73451837e+00\n",
      "  -2.64987633e-02  -5.42963269e-01   4.20623224e-01  -3.50781236e-01\n",
      "  -2.93008020e-01   1.00781499e-02   3.40894585e-02  -2.77003014e-01\n",
      "   3.18585543e-01]\n",
      "[  1.59246577e+01   1.45516898e+00  -4.16479843e-01   1.24227014e+00\n",
      "  -3.33463419e-01  -4.81230616e-01  -5.66576795e-01   1.08721526e-01\n",
      "   7.73879512e-03  -1.92054735e-01   2.31843220e-01  -1.33335203e-01\n",
      "   2.69090888e-01]\n",
      "[  1.45192793e+01   2.86848082e+00  -1.53213049e-01   1.16295263e-02\n",
      "  -3.03287454e-01   8.62487242e-01  -4.85307386e-01  -3.08289919e-01\n",
      "  -4.49305723e-01   3.31617142e-01   5.55751189e-02  -3.26818008e-02\n",
      "   2.52781231e-01]\n",
      "[ 16.56222841   0.76078889   0.35227051   1.30504777  -0.3700703\n",
      "  -0.82541789  -0.14336961  -0.15233365  -0.18031013   0.21825516\n",
      "   0.08212428  -0.05279078   0.19379388]\n",
      "[ 15.93247119   2.08565479  -0.04653345  -0.41631198  -0.92345451\n",
      "   0.33517228   0.26787044  -0.12287092   0.02557987   0.20888181\n",
      "   0.08815023  -0.05033559   0.02936733]\n",
      "[  1.51813605e+01   5.43504237e-01   1.04578408e+00   1.80867812e+00\n",
      "  -8.01195231e-02  -4.06602434e-01   2.80008987e-01  -2.07164679e-01\n",
      "  -4.11168060e-01   2.12127628e-03   2.39941083e-02  -2.53485648e-01\n",
      "   1.22839214e-01]\n",
      "[  1.47988863e+01   2.65543873e+00  -1.95741089e-01  -6.27160008e-01\n",
      "  -5.10065144e-01  -4.05990514e-02   5.04255716e-01  -3.77307612e-01\n",
      "   1.32627095e-01   1.40314599e-01   1.39073632e-01   1.06579250e-03\n",
      "  -3.60444494e-03]\n",
      "[ 14.91109045   2.31440561  -0.72975552   0.7032036    0.13021428\n",
      "  -0.07889817  -0.39235106  -0.33921772   0.03138296   0.03166591\n",
      "   0.17718988  -0.38438709   0.07827473]\n",
      "[ 13.41271294   4.26463922  -0.66502698  -0.39346566   1.12598161\n",
      "  -0.03678169  -1.28064769  -0.24596747   0.23167609  -0.25993071\n",
      "   0.10259278   0.06708575   0.19043092]\n",
      "[ 16.8587608    1.2761893   -0.66659436   0.32739825  -0.25455795\n",
      "  -0.79374501   0.09419639   0.14310519   0.20691762   0.04295728\n",
      "   0.12719184  -0.18684616   0.25280296]\n",
      "[ 12.25005225   3.06303353   0.94903114   1.01269294   0.19149334\n",
      "   0.69520763  -0.89604679  -0.54815291  -0.28483387   0.02688663\n",
      "  -0.28300973  -0.18358721   0.26811025]\n",
      "[ 16.800565     1.57229928  -0.95871404   0.253165    -0.65521118\n",
      "   0.17709706  -0.14187251   0.64678368  -0.04938639   0.34803366\n",
      "  -0.29585364   0.59989228  -0.25810883]\n",
      "[ 14.11672155   0.99558256   1.29826533   1.56638631  -0.96988283\n",
      "   0.04717843  -0.09445842  -0.06414362  -0.15718885   0.07976295\n",
      "  -0.07644156   0.05587274   0.01456655]\n",
      "[ 13.57816014   0.24975536   0.88400463   2.73175911  -0.07651145\n",
      "   0.16237835   0.40833781  -0.14408494  -0.27296503  -0.39595735\n",
      "  -0.22522674  -0.54383001  -0.28825932]\n",
      "[ 14.40802219   1.13612168  -0.25629845   2.30548008   0.55995994\n",
      "   0.2565826   -0.45715968   0.5159758   -0.36735637  -0.37176662\n",
      "  -0.22073304  -0.5134525   -0.15092936]\n",
      "[ 16.24794875   1.37182605   0.06559462   0.58843434  -0.42402909\n",
      "  -1.09324937   0.0339094    0.2594255    0.35829821   0.19898339\n",
      "   0.36750554  -0.17560818   0.06588911]\n",
      "[ 15.7826343    1.40844845  -0.20718845   1.60617645  -0.38001611\n",
      "  -0.4314072   -0.57866952   0.26739086  -0.11360458   0.08210695\n",
      "  -0.08224322  -0.16684445   0.21541319]\n",
      "[ 14.92393741   1.46018648   0.18489454   1.34907534   0.50049273\n",
      "  -0.23523258  -0.3806413   -0.32631007  -0.24187427  -0.11322144\n",
      "  -0.28867119  -0.14799815   0.40613982]\n",
      "[ 16.44960509   1.62986567  -0.65623444   0.32213507  -0.7667903\n",
      "   0.21356592  -0.77304267   0.55385002   0.13896191   0.23737648\n",
      "  -0.33867904   0.5279128   -0.24426911]\n",
      "[ 16.65548313   1.55005094  -0.38006756   0.30757622  -0.12772127\n",
      "  -0.78096769  -0.2698321   -0.14140197   0.39927595   0.10927089\n",
      "  -0.05434236  -0.03230471   0.38892297]\n",
      "[ 15.31282675   1.77053133  -0.45207117  -0.18799436  -0.54456814\n",
      "   0.70024671  -0.1222411    0.16307198  -0.0487955    0.13354979\n",
      "  -0.3139723    0.37932187   0.22981963]\n",
      "[ 14.98828135   1.11879303  -0.1604108    1.93613323  -0.26791602\n",
      "  -0.44589927   0.026301     0.0686699   -0.21810582  -0.1268011\n",
      "   0.16912846  -0.31927542  -0.02903838]\n",
      "[ 15.57476184   2.63913555  -0.84470587  -0.34093769  -0.61459465\n",
      "   0.33124095   0.57632079  -0.69375615   0.63367192   0.12130246\n",
      "   0.26449562   0.2121163   -0.06722404]\n"
     ]
    }
   ],
   "source": [
    "nafMeanCeps\n",
    "for c in nafCeps:\n",
    "    nafMeanCeps = np.mean(c, axis=0)\n",
    "    print nafMeanCeps"
   ]
  },
  {
   "cell_type": "code",
   "execution_count": 39,
   "metadata": {
    "collapsed": false
   },
   "outputs": [
    {
     "name": "stdout",
     "output_type": "stream",
     "text": [
      "[ 13.67969351   1.50603074   0.78396184   0.4113546    0.0454019\n",
      "   1.10128161   0.96236364  -0.77496485   0.16466424  -0.43918445\n",
      "   0.8500918   -0.84605079   0.06960457]\n"
     ]
    }
   ],
   "source": [
    "namMeanCeps = np.mean(namCeps[0], axis=0)\n",
    "print namMeanCeps"
   ]
  },
  {
   "cell_type": "markdown",
   "metadata": {},
   "source": [
    "# 7.2"
   ]
  },
  {
   "cell_type": "code",
   "execution_count": 40,
   "metadata": {
    "collapsed": false
   },
   "outputs": [],
   "source": [
    "nkFiles = []\n",
    "\n",
    "for f in files:\n",
    "    if f.startswith(\"nk\"):\n",
    "        nkFiles.append(wav.read(BASE_DIR + f))"
   ]
  },
  {
   "cell_type": "code",
   "execution_count": 41,
   "metadata": {
    "collapsed": true
   },
   "outputs": [],
   "source": [
    "nkCeps = []\n",
    "for f in nkFiles:\n",
    "    nkCeps.append(mfcc(f[1], fs=f[0])[0])"
   ]
  },
  {
   "cell_type": "code",
   "execution_count": 42,
   "metadata": {
    "collapsed": false
   },
   "outputs": [
    {
     "name": "stdout",
     "output_type": "stream",
     "text": [
      "[ 14.80595194   0.92440865   2.66664348   0.78685828  -1.12664115\n",
      "   0.1401904   -0.47762766  -0.81662582   0.30184514  -0.14245167\n",
      "   0.05061334   0.09102493   0.3083708 ]\n"
     ]
    }
   ],
   "source": [
    "print namMeanCeps"
   ]
  },
  {
   "cell_type": "code",
   "execution_count": 43,
   "metadata": {
    "collapsed": false
   },
   "outputs": [
    {
     "name": "stdout",
     "output_type": "stream",
     "text": [
      "[ 15.25868063   1.55432464   0.47707232   1.58101891  -0.60629484\n",
      "  -0.41603403  -0.57384826   0.28345123  -0.35312312  -0.0234101\n",
      "   0.12874776   0.34592014  -0.29469729]\n"
     ]
    }
   ],
   "source": [
    "nkMeanCeps = np.mean(nkCeps[0], axis=0)\n",
    "print nkMeanMeanCeps"
   ]
  },
  {
   "cell_type": "markdown",
   "metadata": {},
   "source": [
    "# 7.3"
   ]
  },
  {
   "cell_type": "code",
   "execution_count": 61,
   "metadata": {
    "collapsed": false
   },
   "outputs": [
    {
     "name": "stdout",
     "output_type": "stream",
     "text": [
      "[ 15.59676448   2.80003934  -0.39652586  -0.76364244  -1.25470778\n",
      "   0.79151527  -0.43268339   0.10226868   0.04713486   0.31112434\n",
      "   0.18058686  -0.06080008   0.17647303]\n"
     ]
    }
   ],
   "source": [
    "print nafMeanCeps"
   ]
  },
  {
   "cell_type": "code",
   "execution_count": 62,
   "metadata": {
    "collapsed": false
   },
   "outputs": [
    {
     "name": "stdout",
     "output_type": "stream",
     "text": [
      "[ 13.67969351   1.50603074   0.78396184   0.4113546    0.0454019\n",
      "   1.10128161   0.96236364  -0.77496485   0.16466424  -0.43918445\n",
      "   0.8500918   -0.84605079   0.06960457]\n"
     ]
    }
   ],
   "source": [
    "print namMeanCeps"
   ]
  },
  {
   "cell_type": "markdown",
   "metadata": {},
   "source": [
    "# 7.4"
   ]
  },
  {
   "cell_type": "code",
   "execution_count": 64,
   "metadata": {
    "collapsed": false
   },
   "outputs": [
    {
     "name": "stdout",
     "output_type": "stream",
     "text": [
      "[ 15.59676448   2.80003934  -0.39652586  -0.76364244  -1.25470778\n",
      "   0.79151527  -0.43268339   0.10226868   0.04713486   0.31112434\n",
      "   0.18058686  -0.06080008   0.17647303]\n"
     ]
    }
   ],
   "source": [
    "print namMeanCeps"
   ]
  },
  {
   "cell_type": "code",
   "execution_count": 65,
   "metadata": {
    "collapsed": false
   },
   "outputs": [
    {
     "name": "stdout",
     "output_type": "stream",
     "text": [
      "[ 15.59676448   2.80003934  -0.39652586  -0.76364244  -1.25470778\n",
      "   0.79151527  -0.43268339   0.10226868   0.04713486   0.31112434\n",
      "   0.18058686  -0.06080008   0.17647303]\n"
     ]
    }
   ],
   "source": [
    "print nafMeanCeps"
   ]
  },
  {
   "cell_type": "code",
   "execution_count": 66,
   "metadata": {
    "collapsed": false
   },
   "outputs": [
    {
     "ename": "NameError",
     "evalue": "name 'nkMeanCeps' is not defined",
     "output_type": "error",
     "traceback": [
      "\u001b[1;31m---------------------------------------------------------------------------\u001b[0m",
      "\u001b[1;31mNameError\u001b[0m                                 Traceback (most recent call last)",
      "\u001b[1;32m<ipython-input-66-63d775d2b99e>\u001b[0m in \u001b[0;36m<module>\u001b[1;34m()\u001b[0m\n\u001b[1;32m----> 1\u001b[1;33m \u001b[1;32mprint\u001b[0m \u001b[0mnkMeanCeps\u001b[0m\u001b[1;33m\u001b[0m\u001b[0m\n\u001b[0m",
      "\u001b[1;31mNameError\u001b[0m: name 'nkMeanCeps' is not defined"
     ]
    }
   ],
   "source": [
    "print nkMeanCeps"
   ]
  },
  {
   "cell_type": "code",
   "execution_count": null,
   "metadata": {
    "collapsed": true
   },
   "outputs": [],
   "source": []
  },
  {
   "cell_type": "markdown",
   "metadata": {},
   "source": [
    "# 7.5"
   ]
  },
  {
   "cell_type": "code",
   "execution_count": 49,
   "metadata": {
    "collapsed": true
   },
   "outputs": [],
   "source": [
    "naturalFiles = []\n",
    "synthesizedFiles = []\n",
    "\n",
    "for f in files:\n",
    "    if \"n\" in f:\n",
    "        naturalFiles.append(wav.read(BASE_DIR + f))\n",
    "    if \"s\" in f:\n",
    "        synthesizedFiles.append(wav.read(BASE_DIR + f))"
   ]
  },
  {
   "cell_type": "code",
   "execution_count": 52,
   "metadata": {
    "collapsed": true
   },
   "outputs": [],
   "source": [
    "naturalCeps = []\n",
    "for f in naturalFiles:\n",
    "    naturalCeps.append(mfcc(f[1], fs=f[0])[0])\n",
    "\n",
    "synthesizedCeps = []\n",
    "for f in synthesizedFiles:\n",
    "    synthesizedCeps.append(mfcc(f[1], fs=f[0])[0])"
   ]
  },
  {
   "cell_type": "code",
   "execution_count": 53,
   "metadata": {
    "collapsed": false
   },
   "outputs": [
    {
     "name": "stdout",
     "output_type": "stream",
     "text": [
      "[ 15.59676448   2.80003934  -0.39652586  -0.76364244  -1.25470778\n",
      "   0.79151527  -0.43268339   0.10226868   0.04713486   0.31112434\n",
      "   0.18058686  -0.06080008   0.17647303]\n"
     ]
    }
   ],
   "source": [
    "naturalMeanCeps = np.mean(naturalCeps[0], axis=0)\n",
    "print naturalMeanCeps"
   ]
  },
  {
   "cell_type": "code",
   "execution_count": 54,
   "metadata": {
    "collapsed": false
   },
   "outputs": [
    {
     "name": "stdout",
     "output_type": "stream",
     "text": [
      "[ 13.70235356   3.14177536  -1.31348435   2.01924182   0.64619545\n",
      "  -0.31214544  -0.15833591   0.0560468    0.03908075  -0.39810772\n",
      "  -0.28138121  -0.1422775   -0.01718017]\n"
     ]
    }
   ],
   "source": [
    "synthesizedMeanCeps = np.mean(synthesizedCeps[0], axis=0)\n",
    "print synthesizedMeanCeps"
   ]
  },
  {
   "cell_type": "markdown",
   "metadata": {},
   "source": [
    "# 7.6 7yo vs 3yo"
   ]
  },
  {
   "cell_type": "code",
   "execution_count": 56,
   "metadata": {
    "collapsed": false
   },
   "outputs": [],
   "source": [
    "_3yoFiles = []\n",
    "_7yoFiles = []\n",
    "\n",
    "for f in files:\n",
    "    if f.startswith(\"nk3\"):\n",
    "        _3yoFiles.append(wav.read(BASE_DIR + f))\n",
    "    if f.startswith(\"nk7\"):\n",
    "        _7yoFiles.append(wav.read(BASE_DIR + f))"
   ]
  },
  {
   "cell_type": "code",
   "execution_count": 57,
   "metadata": {
    "collapsed": true
   },
   "outputs": [],
   "source": [
    "_3yoCeps = []\n",
    "for f in _3yoFiles:\n",
    "    _3yoCeps.append(mfcc(f[1], fs=f[0])[0])\n",
    "\n",
    "_7yoCeps = []\n",
    "for f in _7yoFiles:\n",
    "    _7yoCeps.append(mfcc(f[1], fs=f[0])[0])"
   ]
  },
  {
   "cell_type": "code",
   "execution_count": 59,
   "metadata": {
    "collapsed": false
   },
   "outputs": [
    {
     "name": "stdout",
     "output_type": "stream",
     "text": [
      "[ 16.79714949   1.54090856   0.11806946   0.75369388  -1.12860447\n",
      "  -0.07059938   0.15398047   0.6023547   -0.39026959   0.66859702\n",
      "   0.11442308  -0.02079662   0.25363452]\n"
     ]
    }
   ],
   "source": [
    "_3yoMeanCeps = np.mean(_3yoCeps[0], axis=0)\n",
    "print _3yoMeanCeps"
   ]
  },
  {
   "cell_type": "code",
   "execution_count": 60,
   "metadata": {
    "collapsed": false
   },
   "outputs": [
    {
     "name": "stdout",
     "output_type": "stream",
     "text": [
      "[  1.56494220e+01   1.81918608e+00  -6.28691171e-01  -6.50586184e-01\n",
      "  -5.23806822e-01   7.55097353e-01   1.78484449e-01   3.07568984e-01\n",
      "   9.78368565e-02  -2.11253999e-02   8.12625526e-02  -1.06741066e-02\n",
      "   1.63699384e-01]\n"
     ]
    }
   ],
   "source": [
    "_7yoMeanCeps = np.mean(_7yoCeps[0], axis=0)\n",
    "print _7yoMeanCeps"
   ]
  }
 ],
 "metadata": {
  "kernelspec": {
   "display_name": "Python 2",
   "language": "python",
   "name": "python2"
  },
  "language_info": {
   "codemirror_mode": {
    "name": "ipython",
    "version": 2
   },
   "file_extension": ".py",
   "mimetype": "text/x-python",
   "name": "python",
   "nbconvert_exporter": "python",
   "pygments_lexer": "ipython2",
   "version": "2.7.11"
  }
 },
 "nbformat": 4,
 "nbformat_minor": 0
}
